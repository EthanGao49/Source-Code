{
 "cells": [
  {
   "cell_type": "markdown",
   "metadata": {
    "id": "view-in-github",
    "colab_type": "text"
   },
   "source": [
    "<a href=\"https://colab.research.google.com/github/YOUR_USERNAME/YOUR_REPO_NAME/blob/main/quantitative_backtesting_colab.ipynb\" target=\"_parent\"><img src=\"https://colab.research.google.com/assets/colab-badge.svg\" alt=\"Open In Colab\"/></a>"
   ]
  },
  {
   "cell_type": "markdown",
   "metadata": {
    "id": "title"
   },
   "source": [
    "# Quantitative Backtesting Framework - Google Colab Demo\n",
    "\n",
    "This notebook demonstrates how to use the Quantitative Backtesting Framework in Google Colab. The framework provides a modular approach to backtesting trading strategies with comprehensive analytics and visualization."
   ]
  },
  {
   "cell_type": "markdown",
   "metadata": {
    "id": "setup-section"
   },
   "source": [
    "## 🚀 Setup and Installation\n",
    "\n",
    "First, let's clone the repository and install the required dependencies."
   ]
  },
  {
   "cell_type": "code",
   "execution_count": null,
   "metadata": {
    "id": "clone-repo"
   },
   "outputs": [],
   "source": [
    "# Clone the repository (replace with your actual GitHub URL)\n",
    "!git clone https://github.com/YOUR_USERNAME/YOUR_REPO_NAME.git\n",
    "%cd YOUR_REPO_NAME"
   ]
  },
  {
   "cell_type": "code",
   "execution_count": null,
   "metadata": {
    "id": "install-requirements"
   },
   "outputs": [],
   "source": [
    "# Install required packages\n",
    "!pip install -r requirements.txt"
   ]
  },
  {
   "cell_type": "code",
   "execution_count": null,
   "metadata": {
    "id": "setup-path"
   },
   "outputs": [],
   "source": [
    "# Add the project to Python path\n",
    "import sys\n",
    "import os\n",
    "sys.path.append(os.getcwd())\n",
    "\n",
    "# Import necessary libraries\n",
    "import pandas as pd\n",
    "import numpy as np\n",
    "import matplotlib.pyplot as plt\n",
    "from datetime import datetime, timedelta\n",
    "import warnings\n",
    "warnings.filterwarnings('ignore')\n",
    "\n",
    "print(\"✅ Setup completed successfully!\")"
   ]
  },
  {
   "cell_type": "markdown",
   "metadata": {
    "id": "quick-demo"
   },
   "source": [
    "## 📊 Quick Demo - Run the Example\n",
    "\n",
    "Let's start with the built-in example to see the framework in action."
   ]
  },
  {
   "cell_type": "code",
   "execution_count": null,
   "metadata": {
    "id": "run-example"
   },
   "outputs": [],
   "source": [
    "# Run the built-in example\n",
    "from qbt.examples.run_example import main\n",
    "main()"
   ]
  },
  {
   "cell_type": "markdown",
   "metadata": {
    "id": "custom-backtest"
   },
   "source": [
    "## 🔧 Custom Backtest Example\n",
    "\n",
    "Now let's create a custom backtest step by step to understand how the framework works."
   ]
  },
  {
   "cell_type": "code",
   "execution_count": null,
   "metadata": {
    "id": "import-components"
   },
   "outputs": [],
   "source": [
    "# Import framework components\n",
    "from qbt.data.yfinance_source import YFDataSource\n",
    "from qbt.signals.ema import EMASignal\n",
    "from qbt.signals.macd import MACDSignal\n",
    "from qbt.signals.rsi import RSISignal\n",
    "from qbt.strategy.cross_over import CrossOverStrategy\n",
    "from qbt.execution.simple_broker import SimpleBroker\n",
    "from qbt.engine.backtester import Backtester\n",
    "from qbt.engine.metrics import PerformanceMetrics\n",
    "from qbt.engine.viz import Visualizer\n",
    "\n",
    "print(\"✅ All components imported successfully!\")"
   ]
  },
  {
   "cell_type": "code",
   "execution_count": null,
   "metadata": {
    "id": "configure-components"
   },
   "outputs": [],
   "source": [
    "# Configure the backtesting components\n",
    "\n",
    "# 1. Data Source\n",
    "data_source = YFDataSource()\n",
    "\n",
    "# 2. Signal Generators\n",
    "ema_signal = EMASignal(short_period=12, long_period=26)\n",
    "macd_signal = MACDSignal()\n",
    "rsi_signal = RSISignal(period=14)\n",
    "\n",
    "# 3. Strategy\n",
    "strategy = CrossOverStrategy(position_size=0.3)\n",
    "\n",
    "# 4. Broker (with realistic fees and slippage)\n",
    "broker = SimpleBroker(commission=0.001, slippage=0.0005)\n",
    "\n",
    "print(\"✅ Components configured successfully!\")"
   ]
  },
  {
   "cell_type": "code",
   "execution_count": null,
   "metadata": {
    "id": "create-backtester"
   },
   "outputs": [],
   "source": [
    "# Create the backtester\n",
    "backtester = Backtester(\n",
    "    data_source=data_source,\n",
    "    signal_generators=[ema_signal, macd_signal, rsi_signal],  # Using multiple signals\n",
    "    strategy=strategy,\n",
    "    broker=broker,\n",
    "    initial_cash=100000.0\n",
    ")\n",
    "\n",
    "print(\"✅ Backtester created successfully!\")"
   ]
  },
  {
   "cell_type": "code",
   "execution_count": null,
   "metadata": {
    "id": "run-backtest"
   },
   "outputs": [],
   "source": [
    "# Define the universe of stocks and time period\n",
    "universe = [\"AAPL\", \"MSFT\", \"GOOGL\", \"TSLA\", \"NVDA\"]\n",
    "start_date = datetime(2020, 1, 1)\n",
    "end_date = datetime(2023, 12, 31)\n",
    "\n",
    "print(f\"🚀 Running backtest for {len(universe)} stocks from {start_date.strftime('%Y-%m-%d')} to {end_date.strftime('%Y-%m-%d')}...\")\n",
    "print(f\"Universe: {', '.join(universe)}\")\n",
    "\n",
    "# Run the backtest\n",
    "result = backtester.run(\n",
    "    universe=universe,\n",
    "    start_date=start_date,\n",
    "    end_date=end_date\n",
    ")\n",
    "\n",
    "print(\"✅ Backtest completed successfully!\")"
   ]
  },
  {
   "cell_type": "markdown",
   "metadata": {
    "id": "results-section"
   },
   "source": [
    "## 📈 Results Analysis\n",
    "\n",
    "Let's analyze the backtest results with comprehensive metrics and visualizations."
   ]
  },
  {
   "cell_type": "code",
   "execution_count": null,
   "metadata": {
    "id": "calculate-metrics"
   },
   "outputs": [],
   "source": [
    "# Calculate and display performance metrics\n",
    "metrics = PerformanceMetrics.calculate_metrics(result)\n",
    "PerformanceMetrics.print_metrics(metrics)"
   ]
  },
  {
   "cell_type": "code",
   "execution_count": null,
   "metadata": {
    "id": "visualize-results"
   },
   "outputs": [],
   "source": [
    "# Create comprehensive visualizations\n",
    "fig = Visualizer.plot_comprehensive_analysis(result)\n",
    "plt.show()"
   ]
  },
  {
   "cell_type": "code",
   "execution_count": null,
   "metadata": {
    "id": "portfolio-summary"
   },
   "outputs": [],
   "source": [
    "# Display portfolio summary\n",
    "print(\"\\n\" + \"=\"*60)\n",
    "print(\"PORTFOLIO SUMMARY\")\n",
    "print(\"=\"*60)\n",
    "\n",
    "if hasattr(result, 'portfolio_df') and not result.portfolio_df.empty:\n",
    "    portfolio_df = result.portfolio_df\n",
    "    \n",
    "    # Show first few rows\n",
    "    print(\"\\n📊 Portfolio DataFrame (first 5 rows):\")\n",
    "    print(portfolio_df.head())\n",
    "    \n",
    "    # Show final portfolio value\n",
    "    final_value = portfolio_df['total_equity'].iloc[-1]\n",
    "    initial_value = portfolio_df['total_equity'].iloc[0]\n",
    "    total_return = ((final_value - initial_value) / initial_value) * 100\n",
    "    \n",
    "    print(f\"\\n💰 Final Portfolio Value: ${final_value:,.2f}\")\n",
    "    print(f\"💰 Initial Investment: ${initial_value:,.2f}\")\n",
    "    print(f\"📊 Total Return: {total_return:.2f}%\")\n",
    "else:\n",
    "    print(\"No portfolio data available in result.\")"
   ]
  },
  {
   "cell_type": "markdown",
   "metadata": {
    "id": "experiment-section"
   },
   "source": [
    "## 🧪 Experiment with Different Configurations\n",
    "\n",
    "Let's experiment with different signal parameters and strategies."
   ]
  },
  {
   "cell_type": "code",
   "execution_count": null,
   "metadata": {
    "id": "experiment-signals"
   },
   "outputs": [],
   "source": [
    "# Experiment with different EMA periods\n",
    "print(\"🧪 Experimenting with different EMA configurations...\")\n",
    "\n",
    "configurations = [\n",
    "    {\"short\": 5, \"long\": 20, \"name\": \"Fast EMA (5/20)\"},\n",
    "    {\"short\": 12, \"long\": 26, \"name\": \"Standard EMA (12/26)\"},\n",
    "    {\"short\": 20, \"long\": 50, \"name\": \"Slow EMA (20/50)\"}\n",
    "]\n",
    "\n",
    "experiment_results = []\n",
    "\n",
    "for config in configurations:\n",
    "    print(f\"\\nTesting {config['name']}...\")\n",
    "    \n",
    "    # Create new signal generator\n",
    "    ema_signal_exp = EMASignal(short_period=config[\"short\"], long_period=config[\"long\"])\n",
    "    \n",
    "    # Create new backtester\n",
    "    backtester_exp = Backtester(\n",
    "        data_source=data_source,\n",
    "        signal_generators=[ema_signal_exp],\n",
    "        strategy=strategy,\n",
    "        broker=broker,\n",
    "        initial_cash=100000.0\n",
    "    )\n",
    "    \n",
    "    # Run backtest on a smaller universe for faster execution\n",
    "    result_exp = backtester_exp.run(\n",
    "        universe=[\"AAPL\", \"MSFT\"],\n",
    "        start_date=datetime(2022, 1, 1),\n",
    "        end_date=datetime(2023, 12, 31)\n",
    "    )\n",
    "    \n",
    "    # Calculate metrics\n",
    "    metrics_exp = PerformanceMetrics.calculate_metrics(result_exp)\n",
    "    \n",
    "    experiment_results.append({\n",
    "        \"name\": config[\"name\"],\n",
    "        \"total_return\": metrics_exp.get(\"total_return\", 0) * 100,\n",
    "        \"sharpe_ratio\": metrics_exp.get(\"sharpe_ratio\", 0),\n",
    "        \"max_drawdown\": metrics_exp.get(\"max_drawdown\", 0) * 100\n",
    "    })\n",
    "\n",
    "print(\"\\n\" + \"=\"*80)\n",
    "print(\"EXPERIMENT RESULTS COMPARISON\")\n",
    "print(\"=\"*80)\n",
    "print(f\"{'Configuration':<20} {'Total Return':<15} {'Sharpe Ratio':<15} {'Max Drawdown':<15}\")\n",
    "print(\"-\" * 80)\n",
    "for result in experiment_results:\n",
    "    print(f\"{result['name']:<20} {result['total_return']:<14.2f}% {result['sharpe_ratio']:<14.2f} {result['max_drawdown']:<14.2f}%\")"
   ]
  },
  {
   "cell_type": "markdown",
   "metadata": {
    "id": "data-exploration"
   },
   "source": [
    "## 📊 Data Exploration\n",
    "\n",
    "Let's explore the market data and understand what our signals are detecting."
   ]
  },
  {
   "cell_type": "code",
   "execution_count": null,
   "metadata": {
    "id": "fetch-sample-data"
   },
   "outputs": [],
   "source": [
    "# Fetch some sample data to explore\n",
    "sample_data = data_source.get_price(\n",
    "    universe=[\"AAPL\"],\n",
    "    start=datetime(2023, 1, 1),\n",
    "    end=datetime(2023, 12, 31)\n",
    ")\n",
    "\n",
    "print(\"📊 Sample Data for AAPL (2023):\")\n",
    "print(sample_data.head(10))\n",
    "print(f\"\\nData shape: {sample_data.shape}\")\n",
    "print(f\"Date range: {sample_data.index.min()} to {sample_data.index.max()}\")"
   ]
  },
  {
   "cell_type": "code",
   "execution_count": null,
   "metadata": {
    "id": "plot-sample-signals"
   },
   "outputs": [],
   "source": [
    "# Apply signals to sample data and visualize\n",
    "ema_signal_viz = EMASignal(short_period=12, long_period=26)\n",
    "data_with_signals = ema_signal_viz.transform(sample_data)\n",
    "\n",
    "# Plot price and signals\n",
    "plt.figure(figsize=(15, 8))\n",
    "\n",
    "# Plot price\n",
    "plt.subplot(2, 1, 1)\n",
    "plt.plot(data_with_signals.index, data_with_signals['AAPL_close'], label='AAPL Close', linewidth=1)\n",
    "if 'AAPL_ema_12' in data_with_signals.columns:\n",
    "    plt.plot(data_with_signals.index, data_with_signals['AAPL_ema_12'], label='EMA 12', alpha=0.7)\n",
    "if 'AAPL_ema_26' in data_with_signals.columns:\n",
    "    plt.plot(data_with_signals.index, data_with_signals['AAPL_ema_26'], label='EMA 26', alpha=0.7)\n",
    "plt.title('AAPL Price with EMA Signals (2023)')\n",
    "plt.legend()\n",
    "plt.grid(True, alpha=0.3)\n",
    "\n",
    "# Plot signal\n",
    "plt.subplot(2, 1, 2)\n",
    "if 'AAPL_signal' in data_with_signals.columns:\n",
    "    plt.plot(data_with_signals.index, data_with_signals['AAPL_signal'], label='EMA Signal', color='red')\n",
    "    plt.title('EMA Crossover Signal')\n",
    "    plt.ylabel('Signal')\n",
    "    plt.legend()\n",
    "    plt.grid(True, alpha=0.3)\n",
    "\n",
    "plt.tight_layout()\n",
    "plt.show()\n",
    "\n",
    "print(f\"\\n📈 Signal statistics:\")\n",
    "if 'AAPL_signal' in data_with_signals.columns:\n",
    "    signal_stats = data_with_signals['AAPL_signal'].describe()\n",
    "    print(signal_stats)"
   ]
  },
  {
   "cell_type": "markdown",
   "metadata": {
    "id": "next-steps"
   },
   "source": [
    "## 🚀 Next Steps\n",
    "\n",
    "Congratulations! You've successfully run the Quantitative Backtesting Framework in Google Colab. Here are some ideas for further exploration:\n",
    "\n",
    "### 1. **Customize Strategies**\n",
    "- Modify the `CrossOverStrategy` parameters\n",
    "- Create new trading strategies by extending the base `Strategy` class\n",
    "\n",
    "### 2. **Experiment with Signals**\n",
    "- Try different technical indicators\n",
    "- Combine multiple signals for more sophisticated strategies\n",
    "- Implement custom signal generators\n",
    "\n",
    "### 3. **Expand the Universe**\n",
    "- Test with different asset classes\n",
    "- Include international stocks\n",
    "- Add cryptocurrency or commodity data\n",
    "\n",
    "### 4. **Risk Management**\n",
    "- Implement stop-loss mechanisms\n",
    "- Add position sizing based on volatility\n",
    "- Include maximum drawdown constraints\n",
    "\n",
    "### 5. **Performance Optimization**\n",
    "- Test different time periods\n",
    "- Optimize signal parameters\n",
    "- Compare against benchmark indices\n",
    "\n",
    "---\n",
    "\n",
    "**Happy backtesting! 📊🚀**"
   ]
  },
  {
   "cell_type": "code",
   "execution_count": null,
   "metadata": {
    "id": "save-results"
   },
   "outputs": [],
   "source": [
    "# Optional: Save results to files\n",
    "import pickle\n",
    "from datetime import datetime\n",
    "\n",
    "timestamp = datetime.now().strftime(\"%Y%m%d_%H%M%S\")\n",
    "\n",
    "# Save the main backtest result\n",
    "with open(f'backtest_result_{timestamp}.pkl', 'wb') as f:\n",
    "    pickle.dump(result, f)\n",
    "\n",
    "# Save metrics as JSON for easy reading\n",
    "import json\n",
    "with open(f'backtest_metrics_{timestamp}.json', 'w') as f:\n",
    "    # Convert numpy types to regular Python types for JSON serialization\n",
    "    metrics_json = {k: float(v) if hasattr(v, 'item') else v for k, v in metrics.items()}\n",
    "    json.dump(metrics_json, f, indent=2)\n",
    "\n",
    "print(f\"✅ Results saved with timestamp: {timestamp}\")\n",
    "print(f\"📁 Files created:\")\n",
    "print(f\"   - backtest_result_{timestamp}.pkl\")\n",
    "print(f\"   - backtest_metrics_{timestamp}.json\")"
   ]
  }
 ],
 "metadata": {
  "colab": {
   "provenance": [],
   "toc_visible": true
  },
  "kernelspec": {
   "display_name": "Python 3",
   "name": "python3"
  },
  "language_info": {
   "name": "python"
  }
 },
 "nbformat": 4,
 "nbformat_minor": 0
}